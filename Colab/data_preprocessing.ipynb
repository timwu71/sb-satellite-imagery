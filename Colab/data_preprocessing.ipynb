{
 "cells": [
  {
   "cell_type": "markdown",
   "metadata": {
    "id": "tYmQ3ZwBItAb"
   },
   "source": [
    "# Understanding the Data\n",
    "\n",
    "This notebook is used to investigate what kinds of data we are dealing with from SustainBench's preprocessed images."
   ]
  },
  {
   "cell_type": "markdown",
   "metadata": {
    "id": "Ne3tF_xMJ-2m"
   },
   "source": [
    "## Set Up\n",
    "\n",
    "* Mounting the drive, importing necessary packages\n",
    "* Pulling the data from the folders in dhs_datasets"
   ]
  },
  {
   "cell_type": "code",
   "execution_count": 1,
   "metadata": {
    "colab": {
     "base_uri": "https://localhost:8080/"
    },
    "executionInfo": {
     "elapsed": 20591,
     "status": "ok",
     "timestamp": 1651961923316,
     "user": {
      "displayName": "Timothy Leo Wu",
      "userId": "07512138671885178261"
     },
     "user_tz": 420
    },
    "id": "kEh5ojihBZ5_",
    "outputId": "76cf7c25-3b89-4801-c826-6e92585379da"
   },
   "outputs": [
    {
     "name": "stdout",
     "output_type": "stream",
     "text": [
      "Mounted at /content/drive\n"
     ]
    }
   ],
   "source": [
    "# This mounts your Google Drive to the Colab VM.\n",
    "from google.colab import drive\n",
    "drive.mount('/content/drive')"
   ]
  },
  {
   "cell_type": "code",
   "execution_count": 2,
   "metadata": {
    "executionInfo": {
     "elapsed": 22,
     "status": "ok",
     "timestamp": 1651961923316,
     "user": {
      "displayName": "Timothy Leo Wu",
      "userId": "07512138671885178261"
     },
     "user_tz": 420
    },
    "id": "xQQ9TdrvBdKh"
   },
   "outputs": [],
   "source": [
    "# Enter the foldername for the data set (added shortcut to 230/231N folder)\n",
    "FOLDERNAME = 'Shareddrives/CS 230 231N/public_datasets'\n",
    "assert FOLDERNAME is not None, \"[!] Enter the foldername.\""
   ]
  },
  {
   "cell_type": "code",
   "execution_count": 3,
   "metadata": {
    "executionInfo": {
     "elapsed": 20,
     "status": "ok",
     "timestamp": 1651961923317,
     "user": {
      "displayName": "Timothy Leo Wu",
      "userId": "07512138671885178261"
     },
     "user_tz": 420
    },
    "id": "FDGmVQOOAGa-"
   },
   "outputs": [],
   "source": [
    "%load_ext autoreload\n",
    "%autoreload 2"
   ]
  },
  {
   "cell_type": "code",
   "execution_count": 4,
   "metadata": {
    "executionInfo": {
     "elapsed": 20,
     "status": "ok",
     "timestamp": 1651961923317,
     "user": {
      "displayName": "Timothy Leo Wu",
      "userId": "07512138671885178261"
     },
     "user_tz": 420
    },
    "id": "ALWMS73sCxkr"
   },
   "outputs": [],
   "source": [
    "import sys\n",
    "dataset_path = '/content/drive/My Drive/{}'.format(FOLDERNAME)\n",
    "# sys.path.append(dataset_path)"
   ]
  },
  {
   "cell_type": "code",
   "execution_count": 5,
   "metadata": {
    "executionInfo": {
     "elapsed": 589,
     "status": "ok",
     "timestamp": 1651961924092,
     "user": {
      "displayName": "Timothy Leo Wu",
      "userId": "07512138671885178261"
     },
     "user_tz": 420
    },
    "id": "qugBs-GCAUON"
   },
   "outputs": [],
   "source": [
    "from concurrent.futures import ThreadPoolExecutor\n",
    "import os\n",
    "\n",
    "import numpy as np\n",
    "import pandas as pd\n",
    "import sklearn\n",
    "from tqdm.auto import tqdm"
   ]
  },
  {
   "cell_type": "code",
   "execution_count": 6,
   "metadata": {
    "executionInfo": {
     "elapsed": 3,
     "status": "ok",
     "timestamp": 1651961924092,
     "user": {
      "displayName": "Timothy Leo Wu",
      "userId": "07512138671885178261"
     },
     "user_tz": 420
    },
    "id": "wtwh_XP2AUm9"
   },
   "outputs": [],
   "source": [
    "dataset_root_dir = '/content/drive/Shareddrives/CS 230 231N/sustainbench-main/sustainbench-main/dataset_preprocessing/dhs_lsms'"
   ]
  },
  {
   "cell_type": "code",
   "execution_count": 7,
   "metadata": {
    "colab": {
     "base_uri": "https://localhost:8080/",
     "height": 522
    },
    "executionInfo": {
     "elapsed": 3954,
     "status": "ok",
     "timestamp": 1651961928044,
     "user": {
      "displayName": "Timothy Leo Wu",
      "userId": "07512138671885178261"
     },
     "user_tz": 420
    },
    "id": "k_iVBcDmAVO6",
    "outputId": "58a5ee93-6e36-4bd0-b21a-7bbe6c8363b9"
   },
   "outputs": [
    {
     "name": "stdout",
     "output_type": "stream",
     "text": [
      "/content/drive/Shareddrives/CS 230 231N/dhs_datasets/AL-2008-5#/AL-2008-5#-00000001.npz\n"
     ]
    },
    {
     "data": {
      "text/html": [
       "\n",
       "  <div id=\"df-4bde0998-69a5-416a-8b36-ee5534b4b3b9\">\n",
       "    <div class=\"colab-df-container\">\n",
       "      <div>\n",
       "<style scoped>\n",
       "    .dataframe tbody tr th:only-of-type {\n",
       "        vertical-align: middle;\n",
       "    }\n",
       "\n",
       "    .dataframe tbody tr th {\n",
       "        vertical-align: top;\n",
       "    }\n",
       "\n",
       "    .dataframe thead th {\n",
       "        text-align: right;\n",
       "    }\n",
       "</style>\n",
       "<table border=\"1\" class=\"dataframe\">\n",
       "  <thead>\n",
       "    <tr style=\"text-align: right;\">\n",
       "      <th></th>\n",
       "      <th>DHSID_EA</th>\n",
       "      <th>cname</th>\n",
       "      <th>year</th>\n",
       "      <th>lat</th>\n",
       "      <th>lon</th>\n",
       "      <th>n_asset</th>\n",
       "      <th>asset_index</th>\n",
       "      <th>n_water</th>\n",
       "      <th>water_index</th>\n",
       "      <th>n_sanitation</th>\n",
       "      <th>...</th>\n",
       "      <th>women_bmi</th>\n",
       "      <th>n_women_edu</th>\n",
       "      <th>n_women_bmi</th>\n",
       "      <th>cluster_id</th>\n",
       "      <th>adm1fips</th>\n",
       "      <th>adm1dhs</th>\n",
       "      <th>urban</th>\n",
       "      <th>survey</th>\n",
       "      <th>cc</th>\n",
       "      <th>path</th>\n",
       "    </tr>\n",
       "    <tr>\n",
       "      <th>DHSID_EA</th>\n",
       "      <th></th>\n",
       "      <th></th>\n",
       "      <th></th>\n",
       "      <th></th>\n",
       "      <th></th>\n",
       "      <th></th>\n",
       "      <th></th>\n",
       "      <th></th>\n",
       "      <th></th>\n",
       "      <th></th>\n",
       "      <th></th>\n",
       "      <th></th>\n",
       "      <th></th>\n",
       "      <th></th>\n",
       "      <th></th>\n",
       "      <th></th>\n",
       "      <th></th>\n",
       "      <th></th>\n",
       "      <th></th>\n",
       "      <th></th>\n",
       "      <th></th>\n",
       "    </tr>\n",
       "  </thead>\n",
       "  <tbody>\n",
       "    <tr>\n",
       "      <th>AL-2008-5#-00000001</th>\n",
       "      <td>AL-2008-5#-00000001</td>\n",
       "      <td>AL</td>\n",
       "      <td>2008</td>\n",
       "      <td>40.822652</td>\n",
       "      <td>19.838321</td>\n",
       "      <td>18.0</td>\n",
       "      <td>2.430596</td>\n",
       "      <td>18.0</td>\n",
       "      <td>3.444444</td>\n",
       "      <td>18.0</td>\n",
       "      <td>...</td>\n",
       "      <td>24.365000</td>\n",
       "      <td>18.0</td>\n",
       "      <td>18.0</td>\n",
       "      <td>1</td>\n",
       "      <td>NaN</td>\n",
       "      <td>9999</td>\n",
       "      <td>R</td>\n",
       "      <td>AL-2008-5#</td>\n",
       "      <td>AL</td>\n",
       "      <td>/content/drive/Shareddrives/CS 230 231N/dhs_da...</td>\n",
       "    </tr>\n",
       "    <tr>\n",
       "      <th>AL-2008-5#-00000002</th>\n",
       "      <td>AL-2008-5#-00000002</td>\n",
       "      <td>AL</td>\n",
       "      <td>2008</td>\n",
       "      <td>40.696846</td>\n",
       "      <td>20.007555</td>\n",
       "      <td>20.0</td>\n",
       "      <td>2.867678</td>\n",
       "      <td>20.0</td>\n",
       "      <td>4.700000</td>\n",
       "      <td>20.0</td>\n",
       "      <td>...</td>\n",
       "      <td>23.104000</td>\n",
       "      <td>20.0</td>\n",
       "      <td>20.0</td>\n",
       "      <td>2</td>\n",
       "      <td>NaN</td>\n",
       "      <td>9999</td>\n",
       "      <td>R</td>\n",
       "      <td>AL-2008-5#</td>\n",
       "      <td>AL</td>\n",
       "      <td>/content/drive/Shareddrives/CS 230 231N/dhs_da...</td>\n",
       "    </tr>\n",
       "    <tr>\n",
       "      <th>AL-2008-5#-00000003</th>\n",
       "      <td>AL-2008-5#-00000003</td>\n",
       "      <td>AL</td>\n",
       "      <td>2008</td>\n",
       "      <td>40.750037</td>\n",
       "      <td>19.974262</td>\n",
       "      <td>18.0</td>\n",
       "      <td>2.909049</td>\n",
       "      <td>18.0</td>\n",
       "      <td>4.500000</td>\n",
       "      <td>18.0</td>\n",
       "      <td>...</td>\n",
       "      <td>22.387778</td>\n",
       "      <td>18.0</td>\n",
       "      <td>18.0</td>\n",
       "      <td>3</td>\n",
       "      <td>NaN</td>\n",
       "      <td>9999</td>\n",
       "      <td>R</td>\n",
       "      <td>AL-2008-5#</td>\n",
       "      <td>AL</td>\n",
       "      <td>/content/drive/Shareddrives/CS 230 231N/dhs_da...</td>\n",
       "    </tr>\n",
       "    <tr>\n",
       "      <th>AL-2008-5#-00000004</th>\n",
       "      <td>AL-2008-5#-00000004</td>\n",
       "      <td>AL</td>\n",
       "      <td>2008</td>\n",
       "      <td>40.798931</td>\n",
       "      <td>19.863338</td>\n",
       "      <td>19.0</td>\n",
       "      <td>2.881122</td>\n",
       "      <td>19.0</td>\n",
       "      <td>4.947368</td>\n",
       "      <td>19.0</td>\n",
       "      <td>...</td>\n",
       "      <td>27.084500</td>\n",
       "      <td>21.0</td>\n",
       "      <td>20.0</td>\n",
       "      <td>4</td>\n",
       "      <td>NaN</td>\n",
       "      <td>9999</td>\n",
       "      <td>R</td>\n",
       "      <td>AL-2008-5#</td>\n",
       "      <td>AL</td>\n",
       "      <td>/content/drive/Shareddrives/CS 230 231N/dhs_da...</td>\n",
       "    </tr>\n",
       "    <tr>\n",
       "      <th>AL-2008-5#-00000005</th>\n",
       "      <td>AL-2008-5#-00000005</td>\n",
       "      <td>AL</td>\n",
       "      <td>2008</td>\n",
       "      <td>40.746123</td>\n",
       "      <td>19.843885</td>\n",
       "      <td>19.0</td>\n",
       "      <td>2.546830</td>\n",
       "      <td>19.0</td>\n",
       "      <td>4.684211</td>\n",
       "      <td>19.0</td>\n",
       "      <td>...</td>\n",
       "      <td>24.523125</td>\n",
       "      <td>16.0</td>\n",
       "      <td>16.0</td>\n",
       "      <td>5</td>\n",
       "      <td>NaN</td>\n",
       "      <td>9999</td>\n",
       "      <td>R</td>\n",
       "      <td>AL-2008-5#</td>\n",
       "      <td>AL</td>\n",
       "      <td>/content/drive/Shareddrives/CS 230 231N/dhs_da...</td>\n",
       "    </tr>\n",
       "  </tbody>\n",
       "</table>\n",
       "<p>5 rows × 24 columns</p>\n",
       "</div>\n",
       "      <button class=\"colab-df-convert\" onclick=\"convertToInteractive('df-4bde0998-69a5-416a-8b36-ee5534b4b3b9')\"\n",
       "              title=\"Convert this dataframe to an interactive table.\"\n",
       "              style=\"display:none;\">\n",
       "        \n",
       "  <svg xmlns=\"http://www.w3.org/2000/svg\" height=\"24px\"viewBox=\"0 0 24 24\"\n",
       "       width=\"24px\">\n",
       "    <path d=\"M0 0h24v24H0V0z\" fill=\"none\"/>\n",
       "    <path d=\"M18.56 5.44l.94 2.06.94-2.06 2.06-.94-2.06-.94-.94-2.06-.94 2.06-2.06.94zm-11 1L8.5 8.5l.94-2.06 2.06-.94-2.06-.94L8.5 2.5l-.94 2.06-2.06.94zm10 10l.94 2.06.94-2.06 2.06-.94-2.06-.94-.94-2.06-.94 2.06-2.06.94z\"/><path d=\"M17.41 7.96l-1.37-1.37c-.4-.4-.92-.59-1.43-.59-.52 0-1.04.2-1.43.59L10.3 9.45l-7.72 7.72c-.78.78-.78 2.05 0 2.83L4 21.41c.39.39.9.59 1.41.59.51 0 1.02-.2 1.41-.59l7.78-7.78 2.81-2.81c.8-.78.8-2.07 0-2.86zM5.41 20L4 18.59l7.72-7.72 1.47 1.35L5.41 20z\"/>\n",
       "  </svg>\n",
       "      </button>\n",
       "      \n",
       "  <style>\n",
       "    .colab-df-container {\n",
       "      display:flex;\n",
       "      flex-wrap:wrap;\n",
       "      gap: 12px;\n",
       "    }\n",
       "\n",
       "    .colab-df-convert {\n",
       "      background-color: #E8F0FE;\n",
       "      border: none;\n",
       "      border-radius: 50%;\n",
       "      cursor: pointer;\n",
       "      display: none;\n",
       "      fill: #1967D2;\n",
       "      height: 32px;\n",
       "      padding: 0 0 0 0;\n",
       "      width: 32px;\n",
       "    }\n",
       "\n",
       "    .colab-df-convert:hover {\n",
       "      background-color: #E2EBFA;\n",
       "      box-shadow: 0px 1px 2px rgba(60, 64, 67, 0.3), 0px 1px 3px 1px rgba(60, 64, 67, 0.15);\n",
       "      fill: #174EA6;\n",
       "    }\n",
       "\n",
       "    [theme=dark] .colab-df-convert {\n",
       "      background-color: #3B4455;\n",
       "      fill: #D2E3FC;\n",
       "    }\n",
       "\n",
       "    [theme=dark] .colab-df-convert:hover {\n",
       "      background-color: #434B5C;\n",
       "      box-shadow: 0px 1px 3px 1px rgba(0, 0, 0, 0.15);\n",
       "      filter: drop-shadow(0px 1px 2px rgba(0, 0, 0, 0.3));\n",
       "      fill: #FFFFFF;\n",
       "    }\n",
       "  </style>\n",
       "\n",
       "      <script>\n",
       "        const buttonEl =\n",
       "          document.querySelector('#df-4bde0998-69a5-416a-8b36-ee5534b4b3b9 button.colab-df-convert');\n",
       "        buttonEl.style.display =\n",
       "          google.colab.kernel.accessAllowed ? 'block' : 'none';\n",
       "\n",
       "        async function convertToInteractive(key) {\n",
       "          const element = document.querySelector('#df-4bde0998-69a5-416a-8b36-ee5534b4b3b9');\n",
       "          const dataTable =\n",
       "            await google.colab.kernel.invokeFunction('convertToInteractive',\n",
       "                                                     [key], {});\n",
       "          if (!dataTable) return;\n",
       "\n",
       "          const docLinkHtml = 'Like what you see? Visit the ' +\n",
       "            '<a target=\"_blank\" href=https://colab.research.google.com/notebooks/data_table.ipynb>data table notebook</a>'\n",
       "            + ' to learn more about interactive tables.';\n",
       "          element.innerHTML = '';\n",
       "          dataTable['output_type'] = 'display_data';\n",
       "          await google.colab.output.renderOutput(dataTable, element);\n",
       "          const docLink = document.createElement('div');\n",
       "          docLink.innerHTML = docLinkHtml;\n",
       "          element.appendChild(docLink);\n",
       "        }\n",
       "      </script>\n",
       "    </div>\n",
       "  </div>\n",
       "  "
      ],
      "text/plain": [
       "                                DHSID_EA cname  year        lat        lon  \\\n",
       "DHSID_EA                                                                     \n",
       "AL-2008-5#-00000001  AL-2008-5#-00000001    AL  2008  40.822652  19.838321   \n",
       "AL-2008-5#-00000002  AL-2008-5#-00000002    AL  2008  40.696846  20.007555   \n",
       "AL-2008-5#-00000003  AL-2008-5#-00000003    AL  2008  40.750037  19.974262   \n",
       "AL-2008-5#-00000004  AL-2008-5#-00000004    AL  2008  40.798931  19.863338   \n",
       "AL-2008-5#-00000005  AL-2008-5#-00000005    AL  2008  40.746123  19.843885   \n",
       "\n",
       "                     n_asset  asset_index  n_water  water_index  n_sanitation  \\\n",
       "DHSID_EA                                                                        \n",
       "AL-2008-5#-00000001     18.0     2.430596     18.0     3.444444          18.0   \n",
       "AL-2008-5#-00000002     20.0     2.867678     20.0     4.700000          20.0   \n",
       "AL-2008-5#-00000003     18.0     2.909049     18.0     4.500000          18.0   \n",
       "AL-2008-5#-00000004     19.0     2.881122     19.0     4.947368          19.0   \n",
       "AL-2008-5#-00000005     19.0     2.546830     19.0     4.684211          19.0   \n",
       "\n",
       "                     ...  women_bmi  n_women_edu  n_women_bmi  cluster_id  \\\n",
       "DHSID_EA             ...                                                    \n",
       "AL-2008-5#-00000001  ...  24.365000         18.0         18.0           1   \n",
       "AL-2008-5#-00000002  ...  23.104000         20.0         20.0           2   \n",
       "AL-2008-5#-00000003  ...  22.387778         18.0         18.0           3   \n",
       "AL-2008-5#-00000004  ...  27.084500         21.0         20.0           4   \n",
       "AL-2008-5#-00000005  ...  24.523125         16.0         16.0           5   \n",
       "\n",
       "                     adm1fips  adm1dhs  urban      survey  cc  \\\n",
       "DHSID_EA                                                        \n",
       "AL-2008-5#-00000001       NaN     9999      R  AL-2008-5#  AL   \n",
       "AL-2008-5#-00000002       NaN     9999      R  AL-2008-5#  AL   \n",
       "AL-2008-5#-00000003       NaN     9999      R  AL-2008-5#  AL   \n",
       "AL-2008-5#-00000004       NaN     9999      R  AL-2008-5#  AL   \n",
       "AL-2008-5#-00000005       NaN     9999      R  AL-2008-5#  AL   \n",
       "\n",
       "                                                                  path  \n",
       "DHSID_EA                                                                \n",
       "AL-2008-5#-00000001  /content/drive/Shareddrives/CS 230 231N/dhs_da...  \n",
       "AL-2008-5#-00000002  /content/drive/Shareddrives/CS 230 231N/dhs_da...  \n",
       "AL-2008-5#-00000003  /content/drive/Shareddrives/CS 230 231N/dhs_da...  \n",
       "AL-2008-5#-00000004  /content/drive/Shareddrives/CS 230 231N/dhs_da...  \n",
       "AL-2008-5#-00000005  /content/drive/Shareddrives/CS 230 231N/dhs_da...  \n",
       "\n",
       "[5 rows x 24 columns]"
      ]
     },
     "metadata": {},
     "output_type": "display_data"
    }
   ],
   "source": [
    "df = pd.read_csv(os.path.join(dataset_root_dir, 'output_labels/dhs_final_labels.csv'))\n",
    "df['survey'] = df['DHSID_EA'].str[:10]\n",
    "df['cc'] = df['DHSID_EA'].str[:2]\n",
    "\n",
    "#TODO: I think this path below is missing in the public Github - R\n",
    "data_dir = '/content/drive/Shareddrives/CS 230 231N/dhs_datasets/'\n",
    "df['path'] = data_dir + df['survey'] + '/' + df['DHSID_EA'] + '.npz'\n",
    "# df['path'] = dataset_root_dir + '/dhs_npzs/' + df['survey'] + '/' + df['DHSID_EA'] + '.npz'\n",
    "\n",
    "path_years = df[['DHSID_EA', 'path', 'year']].apply(tuple, axis=1)\n",
    "df.set_index('DHSID_EA', verify_integrity=True, inplace=True, drop=False) #had to add drop=False to keep column from disappearing  -- R\n",
    "print(df['path'].iloc[0])\n",
    "display(df.head())"
   ]
  },
  {
   "cell_type": "markdown",
   "metadata": {
    "id": "lljnrJkIKIka"
   },
   "source": [
    "## Understanding the Raw Data Values\n",
    "\n",
    "We first take a preliminary glance at what the columns store."
   ]
  },
  {
   "cell_type": "code",
   "execution_count": 8,
   "metadata": {
    "colab": {
     "base_uri": "https://localhost:8080/",
     "height": 475
    },
    "executionInfo": {
     "elapsed": 28,
     "status": "ok",
     "timestamp": 1651961928045,
     "user": {
      "displayName": "Timothy Leo Wu",
      "userId": "07512138671885178261"
     },
     "user_tz": 420
    },
    "id": "JZXrPBk6JbFV",
    "outputId": "558f8022-d63a-41de-f0d6-8da36ea49a1c"
   },
   "outputs": [
    {
     "data": {
      "text/html": [
       "\n",
       "  <div id=\"df-d47eef88-fe50-44a4-8272-d2ff95056e0e\">\n",
       "    <div class=\"colab-df-container\">\n",
       "      <div>\n",
       "<style scoped>\n",
       "    .dataframe tbody tr th:only-of-type {\n",
       "        vertical-align: middle;\n",
       "    }\n",
       "\n",
       "    .dataframe tbody tr th {\n",
       "        vertical-align: top;\n",
       "    }\n",
       "\n",
       "    .dataframe thead th {\n",
       "        text-align: right;\n",
       "    }\n",
       "</style>\n",
       "<table border=\"1\" class=\"dataframe\">\n",
       "  <thead>\n",
       "    <tr style=\"text-align: right;\">\n",
       "      <th></th>\n",
       "      <th>DHSID_EA</th>\n",
       "      <th>cname</th>\n",
       "      <th>year</th>\n",
       "      <th>lat</th>\n",
       "      <th>lon</th>\n",
       "      <th>n_asset</th>\n",
       "      <th>asset_index</th>\n",
       "      <th>n_water</th>\n",
       "      <th>water_index</th>\n",
       "      <th>n_sanitation</th>\n",
       "      <th>sanitation_index</th>\n",
       "      <th>under5_mort</th>\n",
       "      <th>n_under5_mort</th>\n",
       "      <th>women_edu</th>\n",
       "      <th>women_bmi</th>\n",
       "      <th>n_women_edu</th>\n",
       "      <th>n_women_bmi</th>\n",
       "      <th>cluster_id</th>\n",
       "      <th>adm1fips</th>\n",
       "      <th>adm1dhs</th>\n",
       "      <th>urban</th>\n",
       "      <th>survey</th>\n",
       "      <th>cc</th>\n",
       "      <th>path</th>\n",
       "    </tr>\n",
       "    <tr>\n",
       "      <th>DHSID_EA</th>\n",
       "      <th></th>\n",
       "      <th></th>\n",
       "      <th></th>\n",
       "      <th></th>\n",
       "      <th></th>\n",
       "      <th></th>\n",
       "      <th></th>\n",
       "      <th></th>\n",
       "      <th></th>\n",
       "      <th></th>\n",
       "      <th></th>\n",
       "      <th></th>\n",
       "      <th></th>\n",
       "      <th></th>\n",
       "      <th></th>\n",
       "      <th></th>\n",
       "      <th></th>\n",
       "      <th></th>\n",
       "      <th></th>\n",
       "      <th></th>\n",
       "      <th></th>\n",
       "      <th></th>\n",
       "      <th></th>\n",
       "      <th></th>\n",
       "    </tr>\n",
       "  </thead>\n",
       "  <tbody>\n",
       "    <tr>\n",
       "      <th>AL-2008-5#-00000001</th>\n",
       "      <td>AL-2008-5#-00000001</td>\n",
       "      <td>AL</td>\n",
       "      <td>2008</td>\n",
       "      <td>40.822652</td>\n",
       "      <td>19.838321</td>\n",
       "      <td>18.0</td>\n",
       "      <td>2.430596</td>\n",
       "      <td>18.0</td>\n",
       "      <td>3.444444</td>\n",
       "      <td>18.0</td>\n",
       "      <td>4.833333</td>\n",
       "      <td>0.0</td>\n",
       "      <td>6.0</td>\n",
       "      <td>9.500000</td>\n",
       "      <td>24.365000</td>\n",
       "      <td>18.0</td>\n",
       "      <td>18.0</td>\n",
       "      <td>1</td>\n",
       "      <td>NaN</td>\n",
       "      <td>9999</td>\n",
       "      <td>R</td>\n",
       "      <td>AL-2008-5#</td>\n",
       "      <td>AL</td>\n",
       "      <td>/content/drive/Shareddrives/CS 230 231N/dhs_da...</td>\n",
       "    </tr>\n",
       "    <tr>\n",
       "      <th>AL-2008-5#-00000002</th>\n",
       "      <td>AL-2008-5#-00000002</td>\n",
       "      <td>AL</td>\n",
       "      <td>2008</td>\n",
       "      <td>40.696846</td>\n",
       "      <td>20.007555</td>\n",
       "      <td>20.0</td>\n",
       "      <td>2.867678</td>\n",
       "      <td>20.0</td>\n",
       "      <td>4.700000</td>\n",
       "      <td>20.0</td>\n",
       "      <td>4.950000</td>\n",
       "      <td>NaN</td>\n",
       "      <td>NaN</td>\n",
       "      <td>8.600000</td>\n",
       "      <td>23.104000</td>\n",
       "      <td>20.0</td>\n",
       "      <td>20.0</td>\n",
       "      <td>2</td>\n",
       "      <td>NaN</td>\n",
       "      <td>9999</td>\n",
       "      <td>R</td>\n",
       "      <td>AL-2008-5#</td>\n",
       "      <td>AL</td>\n",
       "      <td>/content/drive/Shareddrives/CS 230 231N/dhs_da...</td>\n",
       "    </tr>\n",
       "    <tr>\n",
       "      <th>AL-2008-5#-00000003</th>\n",
       "      <td>AL-2008-5#-00000003</td>\n",
       "      <td>AL</td>\n",
       "      <td>2008</td>\n",
       "      <td>40.750037</td>\n",
       "      <td>19.974262</td>\n",
       "      <td>18.0</td>\n",
       "      <td>2.909049</td>\n",
       "      <td>18.0</td>\n",
       "      <td>4.500000</td>\n",
       "      <td>18.0</td>\n",
       "      <td>4.777778</td>\n",
       "      <td>NaN</td>\n",
       "      <td>NaN</td>\n",
       "      <td>9.666667</td>\n",
       "      <td>22.387778</td>\n",
       "      <td>18.0</td>\n",
       "      <td>18.0</td>\n",
       "      <td>3</td>\n",
       "      <td>NaN</td>\n",
       "      <td>9999</td>\n",
       "      <td>R</td>\n",
       "      <td>AL-2008-5#</td>\n",
       "      <td>AL</td>\n",
       "      <td>/content/drive/Shareddrives/CS 230 231N/dhs_da...</td>\n",
       "    </tr>\n",
       "    <tr>\n",
       "      <th>AL-2008-5#-00000004</th>\n",
       "      <td>AL-2008-5#-00000004</td>\n",
       "      <td>AL</td>\n",
       "      <td>2008</td>\n",
       "      <td>40.798931</td>\n",
       "      <td>19.863338</td>\n",
       "      <td>19.0</td>\n",
       "      <td>2.881122</td>\n",
       "      <td>19.0</td>\n",
       "      <td>4.947368</td>\n",
       "      <td>19.0</td>\n",
       "      <td>4.789474</td>\n",
       "      <td>NaN</td>\n",
       "      <td>NaN</td>\n",
       "      <td>9.952381</td>\n",
       "      <td>27.084500</td>\n",
       "      <td>21.0</td>\n",
       "      <td>20.0</td>\n",
       "      <td>4</td>\n",
       "      <td>NaN</td>\n",
       "      <td>9999</td>\n",
       "      <td>R</td>\n",
       "      <td>AL-2008-5#</td>\n",
       "      <td>AL</td>\n",
       "      <td>/content/drive/Shareddrives/CS 230 231N/dhs_da...</td>\n",
       "    </tr>\n",
       "    <tr>\n",
       "      <th>AL-2008-5#-00000005</th>\n",
       "      <td>AL-2008-5#-00000005</td>\n",
       "      <td>AL</td>\n",
       "      <td>2008</td>\n",
       "      <td>40.746123</td>\n",
       "      <td>19.843885</td>\n",
       "      <td>19.0</td>\n",
       "      <td>2.546830</td>\n",
       "      <td>19.0</td>\n",
       "      <td>4.684211</td>\n",
       "      <td>19.0</td>\n",
       "      <td>4.526316</td>\n",
       "      <td>0.0</td>\n",
       "      <td>6.0</td>\n",
       "      <td>8.937500</td>\n",
       "      <td>24.523125</td>\n",
       "      <td>16.0</td>\n",
       "      <td>16.0</td>\n",
       "      <td>5</td>\n",
       "      <td>NaN</td>\n",
       "      <td>9999</td>\n",
       "      <td>R</td>\n",
       "      <td>AL-2008-5#</td>\n",
       "      <td>AL</td>\n",
       "      <td>/content/drive/Shareddrives/CS 230 231N/dhs_da...</td>\n",
       "    </tr>\n",
       "  </tbody>\n",
       "</table>\n",
       "</div>\n",
       "      <button class=\"colab-df-convert\" onclick=\"convertToInteractive('df-d47eef88-fe50-44a4-8272-d2ff95056e0e')\"\n",
       "              title=\"Convert this dataframe to an interactive table.\"\n",
       "              style=\"display:none;\">\n",
       "        \n",
       "  <svg xmlns=\"http://www.w3.org/2000/svg\" height=\"24px\"viewBox=\"0 0 24 24\"\n",
       "       width=\"24px\">\n",
       "    <path d=\"M0 0h24v24H0V0z\" fill=\"none\"/>\n",
       "    <path d=\"M18.56 5.44l.94 2.06.94-2.06 2.06-.94-2.06-.94-.94-2.06-.94 2.06-2.06.94zm-11 1L8.5 8.5l.94-2.06 2.06-.94-2.06-.94L8.5 2.5l-.94 2.06-2.06.94zm10 10l.94 2.06.94-2.06 2.06-.94-2.06-.94-.94-2.06-.94 2.06-2.06.94z\"/><path d=\"M17.41 7.96l-1.37-1.37c-.4-.4-.92-.59-1.43-.59-.52 0-1.04.2-1.43.59L10.3 9.45l-7.72 7.72c-.78.78-.78 2.05 0 2.83L4 21.41c.39.39.9.59 1.41.59.51 0 1.02-.2 1.41-.59l7.78-7.78 2.81-2.81c.8-.78.8-2.07 0-2.86zM5.41 20L4 18.59l7.72-7.72 1.47 1.35L5.41 20z\"/>\n",
       "  </svg>\n",
       "      </button>\n",
       "      \n",
       "  <style>\n",
       "    .colab-df-container {\n",
       "      display:flex;\n",
       "      flex-wrap:wrap;\n",
       "      gap: 12px;\n",
       "    }\n",
       "\n",
       "    .colab-df-convert {\n",
       "      background-color: #E8F0FE;\n",
       "      border: none;\n",
       "      border-radius: 50%;\n",
       "      cursor: pointer;\n",
       "      display: none;\n",
       "      fill: #1967D2;\n",
       "      height: 32px;\n",
       "      padding: 0 0 0 0;\n",
       "      width: 32px;\n",
       "    }\n",
       "\n",
       "    .colab-df-convert:hover {\n",
       "      background-color: #E2EBFA;\n",
       "      box-shadow: 0px 1px 2px rgba(60, 64, 67, 0.3), 0px 1px 3px 1px rgba(60, 64, 67, 0.15);\n",
       "      fill: #174EA6;\n",
       "    }\n",
       "\n",
       "    [theme=dark] .colab-df-convert {\n",
       "      background-color: #3B4455;\n",
       "      fill: #D2E3FC;\n",
       "    }\n",
       "\n",
       "    [theme=dark] .colab-df-convert:hover {\n",
       "      background-color: #434B5C;\n",
       "      box-shadow: 0px 1px 3px 1px rgba(0, 0, 0, 0.15);\n",
       "      filter: drop-shadow(0px 1px 2px rgba(0, 0, 0, 0.3));\n",
       "      fill: #FFFFFF;\n",
       "    }\n",
       "  </style>\n",
       "\n",
       "      <script>\n",
       "        const buttonEl =\n",
       "          document.querySelector('#df-d47eef88-fe50-44a4-8272-d2ff95056e0e button.colab-df-convert');\n",
       "        buttonEl.style.display =\n",
       "          google.colab.kernel.accessAllowed ? 'block' : 'none';\n",
       "\n",
       "        async function convertToInteractive(key) {\n",
       "          const element = document.querySelector('#df-d47eef88-fe50-44a4-8272-d2ff95056e0e');\n",
       "          const dataTable =\n",
       "            await google.colab.kernel.invokeFunction('convertToInteractive',\n",
       "                                                     [key], {});\n",
       "          if (!dataTable) return;\n",
       "\n",
       "          const docLinkHtml = 'Like what you see? Visit the ' +\n",
       "            '<a target=\"_blank\" href=https://colab.research.google.com/notebooks/data_table.ipynb>data table notebook</a>'\n",
       "            + ' to learn more about interactive tables.';\n",
       "          element.innerHTML = '';\n",
       "          dataTable['output_type'] = 'display_data';\n",
       "          await google.colab.output.renderOutput(dataTable, element);\n",
       "          const docLink = document.createElement('div');\n",
       "          docLink.innerHTML = docLinkHtml;\n",
       "          element.appendChild(docLink);\n",
       "        }\n",
       "      </script>\n",
       "    </div>\n",
       "  </div>\n",
       "  "
      ],
      "text/plain": [
       "                                DHSID_EA cname  year        lat        lon  \\\n",
       "DHSID_EA                                                                     \n",
       "AL-2008-5#-00000001  AL-2008-5#-00000001    AL  2008  40.822652  19.838321   \n",
       "AL-2008-5#-00000002  AL-2008-5#-00000002    AL  2008  40.696846  20.007555   \n",
       "AL-2008-5#-00000003  AL-2008-5#-00000003    AL  2008  40.750037  19.974262   \n",
       "AL-2008-5#-00000004  AL-2008-5#-00000004    AL  2008  40.798931  19.863338   \n",
       "AL-2008-5#-00000005  AL-2008-5#-00000005    AL  2008  40.746123  19.843885   \n",
       "\n",
       "                     n_asset  asset_index  n_water  water_index  n_sanitation  \\\n",
       "DHSID_EA                                                                        \n",
       "AL-2008-5#-00000001     18.0     2.430596     18.0     3.444444          18.0   \n",
       "AL-2008-5#-00000002     20.0     2.867678     20.0     4.700000          20.0   \n",
       "AL-2008-5#-00000003     18.0     2.909049     18.0     4.500000          18.0   \n",
       "AL-2008-5#-00000004     19.0     2.881122     19.0     4.947368          19.0   \n",
       "AL-2008-5#-00000005     19.0     2.546830     19.0     4.684211          19.0   \n",
       "\n",
       "                     sanitation_index  under5_mort  n_under5_mort  women_edu  \\\n",
       "DHSID_EA                                                                       \n",
       "AL-2008-5#-00000001          4.833333          0.0            6.0   9.500000   \n",
       "AL-2008-5#-00000002          4.950000          NaN            NaN   8.600000   \n",
       "AL-2008-5#-00000003          4.777778          NaN            NaN   9.666667   \n",
       "AL-2008-5#-00000004          4.789474          NaN            NaN   9.952381   \n",
       "AL-2008-5#-00000005          4.526316          0.0            6.0   8.937500   \n",
       "\n",
       "                     women_bmi  n_women_edu  n_women_bmi  cluster_id adm1fips  \\\n",
       "DHSID_EA                                                                        \n",
       "AL-2008-5#-00000001  24.365000         18.0         18.0           1      NaN   \n",
       "AL-2008-5#-00000002  23.104000         20.0         20.0           2      NaN   \n",
       "AL-2008-5#-00000003  22.387778         18.0         18.0           3      NaN   \n",
       "AL-2008-5#-00000004  27.084500         21.0         20.0           4      NaN   \n",
       "AL-2008-5#-00000005  24.523125         16.0         16.0           5      NaN   \n",
       "\n",
       "                     adm1dhs urban      survey  cc  \\\n",
       "DHSID_EA                                             \n",
       "AL-2008-5#-00000001     9999     R  AL-2008-5#  AL   \n",
       "AL-2008-5#-00000002     9999     R  AL-2008-5#  AL   \n",
       "AL-2008-5#-00000003     9999     R  AL-2008-5#  AL   \n",
       "AL-2008-5#-00000004     9999     R  AL-2008-5#  AL   \n",
       "AL-2008-5#-00000005     9999     R  AL-2008-5#  AL   \n",
       "\n",
       "                                                                  path  \n",
       "DHSID_EA                                                                \n",
       "AL-2008-5#-00000001  /content/drive/Shareddrives/CS 230 231N/dhs_da...  \n",
       "AL-2008-5#-00000002  /content/drive/Shareddrives/CS 230 231N/dhs_da...  \n",
       "AL-2008-5#-00000003  /content/drive/Shareddrives/CS 230 231N/dhs_da...  \n",
       "AL-2008-5#-00000004  /content/drive/Shareddrives/CS 230 231N/dhs_da...  \n",
       "AL-2008-5#-00000005  /content/drive/Shareddrives/CS 230 231N/dhs_da...  "
      ]
     },
     "metadata": {},
     "output_type": "display_data"
    }
   ],
   "source": [
    "pd.set_option('max_columns', None)\n",
    "display(df.head())"
   ]
  },
  {
   "cell_type": "markdown",
   "metadata": {
    "id": "WW2yuhLaJ8Fs"
   },
   "source": [
    "**NOTICE: some columns are NaN for the n_under5_mort**\n",
    "\n",
    "We'll have to clean these out for our purposes, since NaN values might skew our data drastically."
   ]
  },
  {
   "cell_type": "code",
   "execution_count": 9,
   "metadata": {
    "colab": {
     "base_uri": "https://localhost:8080/",
     "height": 237
    },
    "executionInfo": {
     "elapsed": 28,
     "status": "ok",
     "timestamp": 1651961928046,
     "user": {
      "displayName": "Timothy Leo Wu",
      "userId": "07512138671885178261"
     },
     "user_tz": 420
    },
    "id": "cDcWYbrDKxMc",
    "outputId": "b4af3f11-377f-4be1-8d1d-48425f3d9746"
   },
   "outputs": [
    {
     "data": {
      "text/html": [
       "\n",
       "  <div id=\"df-7e28c2df-8fca-4d2c-96bd-8bdaaba881fe\">\n",
       "    <div class=\"colab-df-container\">\n",
       "      <div>\n",
       "<style scoped>\n",
       "    .dataframe tbody tr th:only-of-type {\n",
       "        vertical-align: middle;\n",
       "    }\n",
       "\n",
       "    .dataframe tbody tr th {\n",
       "        vertical-align: top;\n",
       "    }\n",
       "\n",
       "    .dataframe thead th {\n",
       "        text-align: right;\n",
       "    }\n",
       "</style>\n",
       "<table border=\"1\" class=\"dataframe\">\n",
       "  <thead>\n",
       "    <tr style=\"text-align: right;\">\n",
       "      <th></th>\n",
       "      <th>cc</th>\n",
       "      <th>survey</th>\n",
       "      <th>year</th>\n",
       "      <th>lat</th>\n",
       "      <th>lon</th>\n",
       "      <th>under5_mort</th>\n",
       "      <th>n_under5_mort</th>\n",
       "      <th>cluster_id</th>\n",
       "      <th>urban</th>\n",
       "    </tr>\n",
       "    <tr>\n",
       "      <th>DHSID_EA</th>\n",
       "      <th></th>\n",
       "      <th></th>\n",
       "      <th></th>\n",
       "      <th></th>\n",
       "      <th></th>\n",
       "      <th></th>\n",
       "      <th></th>\n",
       "      <th></th>\n",
       "      <th></th>\n",
       "    </tr>\n",
       "  </thead>\n",
       "  <tbody>\n",
       "    <tr>\n",
       "      <th>AL-2008-5#-00000001</th>\n",
       "      <td>AL</td>\n",
       "      <td>AL-2008-5#</td>\n",
       "      <td>2008</td>\n",
       "      <td>40.822652</td>\n",
       "      <td>19.838321</td>\n",
       "      <td>0.0</td>\n",
       "      <td>6.0</td>\n",
       "      <td>1</td>\n",
       "      <td>R</td>\n",
       "    </tr>\n",
       "    <tr>\n",
       "      <th>AL-2008-5#-00000005</th>\n",
       "      <td>AL</td>\n",
       "      <td>AL-2008-5#</td>\n",
       "      <td>2008</td>\n",
       "      <td>40.746123</td>\n",
       "      <td>19.843885</td>\n",
       "      <td>0.0</td>\n",
       "      <td>6.0</td>\n",
       "      <td>5</td>\n",
       "      <td>R</td>\n",
       "    </tr>\n",
       "    <tr>\n",
       "      <th>AL-2008-5#-00000008</th>\n",
       "      <td>AL</td>\n",
       "      <td>AL-2008-5#</td>\n",
       "      <td>2008</td>\n",
       "      <td>40.695985</td>\n",
       "      <td>19.965064</td>\n",
       "      <td>0.0</td>\n",
       "      <td>9.0</td>\n",
       "      <td>8</td>\n",
       "      <td>U</td>\n",
       "    </tr>\n",
       "    <tr>\n",
       "      <th>AL-2008-5#-00000016</th>\n",
       "      <td>AL</td>\n",
       "      <td>AL-2008-5#</td>\n",
       "      <td>2008</td>\n",
       "      <td>41.491808</td>\n",
       "      <td>20.192569</td>\n",
       "      <td>0.0</td>\n",
       "      <td>8.0</td>\n",
       "      <td>16</td>\n",
       "      <td>R</td>\n",
       "    </tr>\n",
       "    <tr>\n",
       "      <th>AL-2008-5#-00000019</th>\n",
       "      <td>AL</td>\n",
       "      <td>AL-2008-5#</td>\n",
       "      <td>2008</td>\n",
       "      <td>41.389071</td>\n",
       "      <td>20.550972</td>\n",
       "      <td>0.0</td>\n",
       "      <td>19.0</td>\n",
       "      <td>19</td>\n",
       "      <td>R</td>\n",
       "    </tr>\n",
       "  </tbody>\n",
       "</table>\n",
       "</div>\n",
       "      <button class=\"colab-df-convert\" onclick=\"convertToInteractive('df-7e28c2df-8fca-4d2c-96bd-8bdaaba881fe')\"\n",
       "              title=\"Convert this dataframe to an interactive table.\"\n",
       "              style=\"display:none;\">\n",
       "        \n",
       "  <svg xmlns=\"http://www.w3.org/2000/svg\" height=\"24px\"viewBox=\"0 0 24 24\"\n",
       "       width=\"24px\">\n",
       "    <path d=\"M0 0h24v24H0V0z\" fill=\"none\"/>\n",
       "    <path d=\"M18.56 5.44l.94 2.06.94-2.06 2.06-.94-2.06-.94-.94-2.06-.94 2.06-2.06.94zm-11 1L8.5 8.5l.94-2.06 2.06-.94-2.06-.94L8.5 2.5l-.94 2.06-2.06.94zm10 10l.94 2.06.94-2.06 2.06-.94-2.06-.94-.94-2.06-.94 2.06-2.06.94z\"/><path d=\"M17.41 7.96l-1.37-1.37c-.4-.4-.92-.59-1.43-.59-.52 0-1.04.2-1.43.59L10.3 9.45l-7.72 7.72c-.78.78-.78 2.05 0 2.83L4 21.41c.39.39.9.59 1.41.59.51 0 1.02-.2 1.41-.59l7.78-7.78 2.81-2.81c.8-.78.8-2.07 0-2.86zM5.41 20L4 18.59l7.72-7.72 1.47 1.35L5.41 20z\"/>\n",
       "  </svg>\n",
       "      </button>\n",
       "      \n",
       "  <style>\n",
       "    .colab-df-container {\n",
       "      display:flex;\n",
       "      flex-wrap:wrap;\n",
       "      gap: 12px;\n",
       "    }\n",
       "\n",
       "    .colab-df-convert {\n",
       "      background-color: #E8F0FE;\n",
       "      border: none;\n",
       "      border-radius: 50%;\n",
       "      cursor: pointer;\n",
       "      display: none;\n",
       "      fill: #1967D2;\n",
       "      height: 32px;\n",
       "      padding: 0 0 0 0;\n",
       "      width: 32px;\n",
       "    }\n",
       "\n",
       "    .colab-df-convert:hover {\n",
       "      background-color: #E2EBFA;\n",
       "      box-shadow: 0px 1px 2px rgba(60, 64, 67, 0.3), 0px 1px 3px 1px rgba(60, 64, 67, 0.15);\n",
       "      fill: #174EA6;\n",
       "    }\n",
       "\n",
       "    [theme=dark] .colab-df-convert {\n",
       "      background-color: #3B4455;\n",
       "      fill: #D2E3FC;\n",
       "    }\n",
       "\n",
       "    [theme=dark] .colab-df-convert:hover {\n",
       "      background-color: #434B5C;\n",
       "      box-shadow: 0px 1px 3px 1px rgba(0, 0, 0, 0.15);\n",
       "      filter: drop-shadow(0px 1px 2px rgba(0, 0, 0, 0.3));\n",
       "      fill: #FFFFFF;\n",
       "    }\n",
       "  </style>\n",
       "\n",
       "      <script>\n",
       "        const buttonEl =\n",
       "          document.querySelector('#df-7e28c2df-8fca-4d2c-96bd-8bdaaba881fe button.colab-df-convert');\n",
       "        buttonEl.style.display =\n",
       "          google.colab.kernel.accessAllowed ? 'block' : 'none';\n",
       "\n",
       "        async function convertToInteractive(key) {\n",
       "          const element = document.querySelector('#df-7e28c2df-8fca-4d2c-96bd-8bdaaba881fe');\n",
       "          const dataTable =\n",
       "            await google.colab.kernel.invokeFunction('convertToInteractive',\n",
       "                                                     [key], {});\n",
       "          if (!dataTable) return;\n",
       "\n",
       "          const docLinkHtml = 'Like what you see? Visit the ' +\n",
       "            '<a target=\"_blank\" href=https://colab.research.google.com/notebooks/data_table.ipynb>data table notebook</a>'\n",
       "            + ' to learn more about interactive tables.';\n",
       "          element.innerHTML = '';\n",
       "          dataTable['output_type'] = 'display_data';\n",
       "          await google.colab.output.renderOutput(dataTable, element);\n",
       "          const docLink = document.createElement('div');\n",
       "          docLink.innerHTML = docLinkHtml;\n",
       "          element.appendChild(docLink);\n",
       "        }\n",
       "      </script>\n",
       "    </div>\n",
       "  </div>\n",
       "  "
      ],
      "text/plain": [
       "                     cc      survey  year        lat        lon  under5_mort  \\\n",
       "DHSID_EA                                                                       \n",
       "AL-2008-5#-00000001  AL  AL-2008-5#  2008  40.822652  19.838321          0.0   \n",
       "AL-2008-5#-00000005  AL  AL-2008-5#  2008  40.746123  19.843885          0.0   \n",
       "AL-2008-5#-00000008  AL  AL-2008-5#  2008  40.695985  19.965064          0.0   \n",
       "AL-2008-5#-00000016  AL  AL-2008-5#  2008  41.491808  20.192569          0.0   \n",
       "AL-2008-5#-00000019  AL  AL-2008-5#  2008  41.389071  20.550972          0.0   \n",
       "\n",
       "                     n_under5_mort  cluster_id urban  \n",
       "DHSID_EA                                              \n",
       "AL-2008-5#-00000001            6.0           1     R  \n",
       "AL-2008-5#-00000005            6.0           5     R  \n",
       "AL-2008-5#-00000008            9.0           8     U  \n",
       "AL-2008-5#-00000016            8.0          16     R  \n",
       "AL-2008-5#-00000019           19.0          19     R  "
      ]
     },
     "metadata": {},
     "output_type": "display_data"
    }
   ],
   "source": [
    "cols = ['cc', 'survey', 'year', 'lat', 'lon', 'under5_mort', 'n_under5_mort', 'cluster_id', 'urban']\n",
    "pd.set_option('max_columns', None)\n",
    "df_with_morts = df[cols][df['n_under5_mort'].notna()]\n",
    "display(df_with_morts.head())"
   ]
  },
  {
   "cell_type": "code",
   "execution_count": 10,
   "metadata": {
    "colab": {
     "base_uri": "https://localhost:8080/"
    },
    "executionInfo": {
     "elapsed": 215,
     "status": "ok",
     "timestamp": 1651962453666,
     "user": {
      "displayName": "Timothy Leo Wu",
      "userId": "07512138671885178261"
     },
     "user_tz": 420
    },
    "id": "uA61cQvool9G",
    "outputId": "036b8d3d-b36b-4deb-fa92-c0ff5db58aef"
   },
   "outputs": [
    {
     "name": "stdout",
     "output_type": "stream",
     "text": [
      "<class 'pandas.core.frame.DataFrame'>\n",
      "Index: 105582 entries, AL-2008-5#-00000001 to ZW-2015-7#-00000400\n",
      "Data columns (total 9 columns):\n",
      " #   Column         Non-Null Count   Dtype  \n",
      "---  ------         --------------   -----  \n",
      " 0   cc             105582 non-null  object \n",
      " 1   survey         105582 non-null  object \n",
      " 2   year           105582 non-null  int64  \n",
      " 3   lat            105582 non-null  float64\n",
      " 4   lon            105582 non-null  float64\n",
      " 5   under5_mort    105582 non-null  float64\n",
      " 6   n_under5_mort  105582 non-null  float64\n",
      " 7   cluster_id     105582 non-null  int64  \n",
      " 8   urban          105582 non-null  object \n",
      "dtypes: float64(4), int64(2), object(3)\n",
      "memory usage: 12.1+ MB\n"
     ]
    }
   ],
   "source": [
    "df_with_morts.info()"
   ]
  },
  {
   "cell_type": "markdown",
   "metadata": {
    "id": "Vf3RUjgEMdhX"
   },
   "source": [
    "We will check to see that our numbers match the ones from the ones given in the SustainBench's website: https://sustainlab-group.github.io/sustainbench/docs/datasets/dhs.html\n",
    "\n",
    "child mortality rate\t56\t1,936,904 children\t105,582"
   ]
  },
  {
   "cell_type": "code",
   "execution_count": 11,
   "metadata": {
    "colab": {
     "base_uri": "https://localhost:8080/"
    },
    "executionInfo": {
     "elapsed": 162,
     "status": "ok",
     "timestamp": 1651962705843,
     "user": {
      "displayName": "Timothy Leo Wu",
      "userId": "07512138671885178261"
     },
     "user_tz": 420
    },
    "id": "JIGFB668MNEA",
    "outputId": "388aaf2d-b490-4df5-d33c-66e5db123806"
   },
   "outputs": [
    {
     "name": "stdout",
     "output_type": "stream",
     "text": [
      "# of clusters/labels: 105582\n"
     ]
    }
   ],
   "source": [
    "print(\"# of clusters/labels:\", df_with_morts.shape[0])"
   ]
  },
  {
   "cell_type": "code",
   "execution_count": 12,
   "metadata": {
    "colab": {
     "base_uri": "https://localhost:8080/",
     "height": 268
    },
    "executionInfo": {
     "elapsed": 207,
     "status": "ok",
     "timestamp": 1651962707084,
     "user": {
      "displayName": "Timothy Leo Wu",
      "userId": "07512138671885178261"
     },
     "user_tz": 420
    },
    "id": "wy8iYl9QM2Lb",
    "outputId": "dc65d79a-f4b2-40f3-9cc6-b90603c583bf"
   },
   "outputs": [
    {
     "data": {
      "image/png": "[encoded data removed]",
      "text/plain": [
       "<Figure size 432x288 with 1 Axes>"
      ]
     },
     "metadata": {
      "needs_background": "light"
     },
     "output_type": "display_data"
    }
   ],
   "source": [
    "mort_num_plt = df_with_morts['n_under5_mort'].value_counts().plot(kind='bar', xticks = [0, 1, 10, 20, 30], yticks=[0, 5000], xlim=(0, 30))"
   ]
  },
  {
   "cell_type": "markdown",
   "metadata": {
    "id": "Zm2_BfW2N2ct"
   },
   "source": [
    "Okay, so we see that there is indeed a variation across the child mortality rate, although more seem to be on the lower side (it's a little hard to see the actual values on the x axis)."
   ]
  },
  {
   "cell_type": "code",
   "execution_count": 13,
   "metadata": {
    "colab": {
     "base_uri": "https://localhost:8080/",
     "height": 399
    },
    "executionInfo": {
     "elapsed": 796,
     "status": "ok",
     "timestamp": 1651962708990,
     "user": {
      "displayName": "Timothy Leo Wu",
      "userId": "07512138671885178261"
     },
     "user_tz": 420
    },
    "id": "xfV-gT20QR-w",
    "outputId": "354c73f7-36b9-4778-d385-3d4eb38f7568"
   },
   "outputs": [
    {
     "data": {
      "image/png": "[encoded data removed]",
      "text/plain": [
       "<Figure size 864x432 with 1 Axes>"
      ]
     },
     "metadata": {
      "needs_background": "light"
     },
     "output_type": "display_data"
    }
   ],
   "source": [
    "mort_num_plt = df_with_morts['cc'].value_counts().plot(kind='bar', figsize=(12, 6), title=\"# of Clusters Per Country\")"
   ]
  },
  {
   "cell_type": "markdown",
   "metadata": {
    "id": "mLWZH6LTQwZQ"
   },
   "source": [
    "Above, we see that our data is **highly skewed towards the India (labeled 'IA')**. This could impact our training significantly if we have much more data from one country than other countries --- perhaps we could downsample the data we use from India?\n",
    "\n",
    "See other country codes here: https://dhsprogram.com/data/File-Types-and-Names.cfm"
   ]
  },
  {
   "cell_type": "code",
   "execution_count": 14,
   "metadata": {
    "colab": {
     "base_uri": "https://localhost:8080/",
     "height": 387
    },
    "executionInfo": {
     "elapsed": 264,
     "status": "ok",
     "timestamp": 1651962710026,
     "user": {
      "displayName": "Timothy Leo Wu",
      "userId": "07512138671885178261"
     },
     "user_tz": 420
    },
    "id": "ysQ3kNMKRMsp",
    "outputId": "14d6b322-45e7-4d1e-c0ed-1434cbc2704c"
   },
   "outputs": [
    {
     "data": {
      "image/png": "[encoded data removed]",
      "text/plain": [
       "<Figure size 864x432 with 1 Axes>"
      ]
     },
     "metadata": {
      "needs_background": "light"
     },
     "output_type": "display_data"
    }
   ],
   "source": [
    "mort_num_plt = df_with_morts['urban'].value_counts().plot(kind='bar', figsize=(12, 6), title=\"# of Rural vs. Urban Clusters\")"
   ]
  },
  {
   "cell_type": "markdown",
   "metadata": {
    "id": "OS89sHQIRS0r"
   },
   "source": [
    "We also see that our data is **skewed towards rural areas** -- this makes sense because our goal is to help determine child mortality rates at less accessible sites, which often tended to be more rural. I am unsure about how this will affect our model's performance."
   ]
  },
  {
   "cell_type": "code",
   "execution_count": 15,
   "metadata": {
    "colab": {
     "base_uri": "https://localhost:8080/"
    },
    "executionInfo": {
     "elapsed": 156,
     "status": "ok",
     "timestamp": 1651962711179,
     "user": {
      "displayName": "Timothy Leo Wu",
      "userId": "07512138671885178261"
     },
     "user_tz": 420
    },
    "id": "8GukW270SL_7",
    "outputId": "f63e8345-6746-4280-f4a2-20f5dacbf7dd"
   },
   "outputs": [
    {
     "data": {
      "text/plain": [
       "count    105582.000000\n",
       "mean         18.345021\n",
       "std          12.160344\n",
       "min           5.000000\n",
       "25%          10.000000\n",
       "50%          15.000000\n",
       "75%          23.000000\n",
       "max         166.000000\n",
       "Name: n_under5_mort, dtype: float64"
      ]
     },
     "execution_count": 15,
     "metadata": {},
     "output_type": "execute_result"
    }
   ],
   "source": [
    "df_with_morts['n_under5_mort'].describe()"
   ]
  },
  {
   "cell_type": "markdown",
   "metadata": {
    "id": "uDlNs2sqSaRf"
   },
   "source": [
    "There seems to be quite a large range of values for the child mortality rates:\n",
    "\n",
    "Range: [5, 166]\n",
    "\n",
    "Mean: 18.3\n",
    "\n",
    "Standard Deviation: 12.16\n",
    "\n",
    "The standard deviation seems a bit high but I am not very familiar with this type of scale."
   ]
  },
  {
   "cell_type": "code",
   "execution_count": 16,
   "metadata": {
    "colab": {
     "base_uri": "https://localhost:8080/",
     "height": 112
    },
    "executionInfo": {
     "elapsed": 196,
     "status": "ok",
     "timestamp": 1651962859126,
     "user": {
      "displayName": "Timothy Leo Wu",
      "userId": "07512138671885178261"
     },
     "user_tz": 420
    },
    "id": "5iSgTo0MTC-g",
    "outputId": "dc030231-7f6c-45da-aaca-df9be20d9dbd"
   },
   "outputs": [
    {
     "data": {
      "text/html": [
       "\n",
       "  <div id=\"df-2aa76101-1581-46d0-bf64-53e46d8ae2cc\">\n",
       "    <div class=\"colab-df-container\">\n",
       "      <div>\n",
       "<style scoped>\n",
       "    .dataframe tbody tr th:only-of-type {\n",
       "        vertical-align: middle;\n",
       "    }\n",
       "\n",
       "    .dataframe tbody tr th {\n",
       "        vertical-align: top;\n",
       "    }\n",
       "\n",
       "    .dataframe thead th {\n",
       "        text-align: right;\n",
       "    }\n",
       "</style>\n",
       "<table border=\"1\" class=\"dataframe\">\n",
       "  <thead>\n",
       "    <tr style=\"text-align: right;\">\n",
       "      <th></th>\n",
       "      <th>cc</th>\n",
       "      <th>survey</th>\n",
       "      <th>year</th>\n",
       "      <th>lat</th>\n",
       "      <th>lon</th>\n",
       "      <th>under5_mort</th>\n",
       "      <th>n_under5_mort</th>\n",
       "      <th>cluster_id</th>\n",
       "      <th>urban</th>\n",
       "    </tr>\n",
       "    <tr>\n",
       "      <th>DHSID_EA</th>\n",
       "      <th></th>\n",
       "      <th></th>\n",
       "      <th></th>\n",
       "      <th></th>\n",
       "      <th></th>\n",
       "      <th></th>\n",
       "      <th></th>\n",
       "      <th></th>\n",
       "      <th></th>\n",
       "    </tr>\n",
       "  </thead>\n",
       "  <tbody>\n",
       "    <tr>\n",
       "      <th>NP-2001-4#-00004905</th>\n",
       "      <td>NP</td>\n",
       "      <td>NP-2001-4#</td>\n",
       "      <td>2001</td>\n",
       "      <td>27.48411</td>\n",
       "      <td>83.26391</td>\n",
       "      <td>313.253012</td>\n",
       "      <td>166.0</td>\n",
       "      <td>4905</td>\n",
       "      <td>R</td>\n",
       "    </tr>\n",
       "  </tbody>\n",
       "</table>\n",
       "</div>\n",
       "      <button class=\"colab-df-convert\" onclick=\"convertToInteractive('df-2aa76101-1581-46d0-bf64-53e46d8ae2cc')\"\n",
       "              title=\"Convert this dataframe to an interactive table.\"\n",
       "              style=\"display:none;\">\n",
       "        \n",
       "  <svg xmlns=\"http://www.w3.org/2000/svg\" height=\"24px\"viewBox=\"0 0 24 24\"\n",
       "       width=\"24px\">\n",
       "    <path d=\"M0 0h24v24H0V0z\" fill=\"none\"/>\n",
       "    <path d=\"M18.56 5.44l.94 2.06.94-2.06 2.06-.94-2.06-.94-.94-2.06-.94 2.06-2.06.94zm-11 1L8.5 8.5l.94-2.06 2.06-.94-2.06-.94L8.5 2.5l-.94 2.06-2.06.94zm10 10l.94 2.06.94-2.06 2.06-.94-2.06-.94-.94-2.06-.94 2.06-2.06.94z\"/><path d=\"M17.41 7.96l-1.37-1.37c-.4-.4-.92-.59-1.43-.59-.52 0-1.04.2-1.43.59L10.3 9.45l-7.72 7.72c-.78.78-.78 2.05 0 2.83L4 21.41c.39.39.9.59 1.41.59.51 0 1.02-.2 1.41-.59l7.78-7.78 2.81-2.81c.8-.78.8-2.07 0-2.86zM5.41 20L4 18.59l7.72-7.72 1.47 1.35L5.41 20z\"/>\n",
       "  </svg>\n",
       "      </button>\n",
       "      \n",
       "  <style>\n",
       "    .colab-df-container {\n",
       "      display:flex;\n",
       "      flex-wrap:wrap;\n",
       "      gap: 12px;\n",
       "    }\n",
       "\n",
       "    .colab-df-convert {\n",
       "      background-color: #E8F0FE;\n",
       "      border: none;\n",
       "      border-radius: 50%;\n",
       "      cursor: pointer;\n",
       "      display: none;\n",
       "      fill: #1967D2;\n",
       "      height: 32px;\n",
       "      padding: 0 0 0 0;\n",
       "      width: 32px;\n",
       "    }\n",
       "\n",
       "    .colab-df-convert:hover {\n",
       "      background-color: #E2EBFA;\n",
       "      box-shadow: 0px 1px 2px rgba(60, 64, 67, 0.3), 0px 1px 3px 1px rgba(60, 64, 67, 0.15);\n",
       "      fill: #174EA6;\n",
       "    }\n",
       "\n",
       "    [theme=dark] .colab-df-convert {\n",
       "      background-color: #3B4455;\n",
       "      fill: #D2E3FC;\n",
       "    }\n",
       "\n",
       "    [theme=dark] .colab-df-convert:hover {\n",
       "      background-color: #434B5C;\n",
       "      box-shadow: 0px 1px 3px 1px rgba(0, 0, 0, 0.15);\n",
       "      filter: drop-shadow(0px 1px 2px rgba(0, 0, 0, 0.3));\n",
       "      fill: #FFFFFF;\n",
       "    }\n",
       "  </style>\n",
       "\n",
       "      <script>\n",
       "        const buttonEl =\n",
       "          document.querySelector('#df-2aa76101-1581-46d0-bf64-53e46d8ae2cc button.colab-df-convert');\n",
       "        buttonEl.style.display =\n",
       "          google.colab.kernel.accessAllowed ? 'block' : 'none';\n",
       "\n",
       "        async function convertToInteractive(key) {\n",
       "          const element = document.querySelector('#df-2aa76101-1581-46d0-bf64-53e46d8ae2cc');\n",
       "          const dataTable =\n",
       "            await google.colab.kernel.invokeFunction('convertToInteractive',\n",
       "                                                     [key], {});\n",
       "          if (!dataTable) return;\n",
       "\n",
       "          const docLinkHtml = 'Like what you see? Visit the ' +\n",
       "            '<a target=\"_blank\" href=https://colab.research.google.com/notebooks/data_table.ipynb>data table notebook</a>'\n",
       "            + ' to learn more about interactive tables.';\n",
       "          element.innerHTML = '';\n",
       "          dataTable['output_type'] = 'display_data';\n",
       "          await google.colab.output.renderOutput(dataTable, element);\n",
       "          const docLink = document.createElement('div');\n",
       "          docLink.innerHTML = docLinkHtml;\n",
       "          element.appendChild(docLink);\n",
       "        }\n",
       "      </script>\n",
       "    </div>\n",
       "  </div>\n",
       "  "
      ],
      "text/plain": [
       "                     cc      survey  year       lat       lon  under5_mort  \\\n",
       "DHSID_EA                                                                     \n",
       "NP-2001-4#-00004905  NP  NP-2001-4#  2001  27.48411  83.26391   313.253012   \n",
       "\n",
       "                     n_under5_mort  cluster_id urban  \n",
       "DHSID_EA                                              \n",
       "NP-2001-4#-00004905          166.0        4905     R  "
      ]
     },
     "execution_count": 16,
     "metadata": {},
     "output_type": "execute_result"
    }
   ],
   "source": [
    "df_with_morts[df_with_morts['n_under5_mort'] == df_with_morts['n_under5_mort'].max()] "
   ]
  },
  {
   "cell_type": "markdown",
   "metadata": {
    "id": "ZTSwKWVNT2WR"
   },
   "source": [
    "A cluster in Nepal had the highest child mortality with 166.0."
   ]
  },
  {
   "cell_type": "code",
   "execution_count": 17,
   "metadata": {
    "colab": {
     "base_uri": "https://localhost:8080/",
     "height": 455
    },
    "executionInfo": {
     "elapsed": 412,
     "status": "ok",
     "timestamp": 1651962868119,
     "user": {
      "displayName": "Timothy Leo Wu",
      "userId": "07512138671885178261"
     },
     "user_tz": 420
    },
    "id": "J3tZVzeEUNTh",
    "outputId": "a4fb0abd-6d42-4d81-e8e8-3d724bd3844e"
   },
   "outputs": [
    {
     "data": {
      "text/html": [
       "\n",
       "  <div id=\"df-b61d805e-f17c-4f5d-88d9-2b4c98c70072\">\n",
       "    <div class=\"colab-df-container\">\n",
       "      <div>\n",
       "<style scoped>\n",
       "    .dataframe tbody tr th:only-of-type {\n",
       "        vertical-align: middle;\n",
       "    }\n",
       "\n",
       "    .dataframe tbody tr th {\n",
       "        vertical-align: top;\n",
       "    }\n",
       "\n",
       "    .dataframe thead th {\n",
       "        text-align: right;\n",
       "    }\n",
       "</style>\n",
       "<table border=\"1\" class=\"dataframe\">\n",
       "  <thead>\n",
       "    <tr style=\"text-align: right;\">\n",
       "      <th></th>\n",
       "      <th>cc</th>\n",
       "      <th>survey</th>\n",
       "      <th>year</th>\n",
       "      <th>lat</th>\n",
       "      <th>lon</th>\n",
       "      <th>under5_mort</th>\n",
       "      <th>n_under5_mort</th>\n",
       "      <th>cluster_id</th>\n",
       "      <th>urban</th>\n",
       "    </tr>\n",
       "    <tr>\n",
       "      <th>DHSID_EA</th>\n",
       "      <th></th>\n",
       "      <th></th>\n",
       "      <th></th>\n",
       "      <th></th>\n",
       "      <th></th>\n",
       "      <th></th>\n",
       "      <th></th>\n",
       "      <th></th>\n",
       "      <th></th>\n",
       "    </tr>\n",
       "  </thead>\n",
       "  <tbody>\n",
       "    <tr>\n",
       "      <th>AL-2008-5#-00000031</th>\n",
       "      <td>AL</td>\n",
       "      <td>AL-2008-5#</td>\n",
       "      <td>2008</td>\n",
       "      <td>41.487536</td>\n",
       "      <td>20.198375</td>\n",
       "      <td>0.0</td>\n",
       "      <td>5.0</td>\n",
       "      <td>31</td>\n",
       "      <td>U</td>\n",
       "    </tr>\n",
       "    <tr>\n",
       "      <th>AL-2008-5#-00000038</th>\n",
       "      <td>AL</td>\n",
       "      <td>AL-2008-5#</td>\n",
       "      <td>2008</td>\n",
       "      <td>41.765525</td>\n",
       "      <td>20.381548</td>\n",
       "      <td>0.0</td>\n",
       "      <td>5.0</td>\n",
       "      <td>38</td>\n",
       "      <td>R</td>\n",
       "    </tr>\n",
       "    <tr>\n",
       "      <th>AL-2008-5#-00000045</th>\n",
       "      <td>AL</td>\n",
       "      <td>AL-2008-5#</td>\n",
       "      <td>2008</td>\n",
       "      <td>41.591402</td>\n",
       "      <td>20.545436</td>\n",
       "      <td>0.0</td>\n",
       "      <td>5.0</td>\n",
       "      <td>45</td>\n",
       "      <td>R</td>\n",
       "    </tr>\n",
       "    <tr>\n",
       "      <th>AL-2008-5#-00000057</th>\n",
       "      <td>AL</td>\n",
       "      <td>AL-2008-5#</td>\n",
       "      <td>2008</td>\n",
       "      <td>41.696015</td>\n",
       "      <td>20.436156</td>\n",
       "      <td>0.0</td>\n",
       "      <td>5.0</td>\n",
       "      <td>57</td>\n",
       "      <td>U</td>\n",
       "    </tr>\n",
       "    <tr>\n",
       "      <th>AL-2008-5#-00000061</th>\n",
       "      <td>AL</td>\n",
       "      <td>AL-2008-5#</td>\n",
       "      <td>2008</td>\n",
       "      <td>41.672881</td>\n",
       "      <td>20.420241</td>\n",
       "      <td>0.0</td>\n",
       "      <td>5.0</td>\n",
       "      <td>61</td>\n",
       "      <td>U</td>\n",
       "    </tr>\n",
       "    <tr>\n",
       "      <th>...</th>\n",
       "      <td>...</td>\n",
       "      <td>...</td>\n",
       "      <td>...</td>\n",
       "      <td>...</td>\n",
       "      <td>...</td>\n",
       "      <td>...</td>\n",
       "      <td>...</td>\n",
       "      <td>...</td>\n",
       "      <td>...</td>\n",
       "    </tr>\n",
       "    <tr>\n",
       "      <th>ZW-2010-6#-00000406</th>\n",
       "      <td>ZW</td>\n",
       "      <td>ZW-2010-6#</td>\n",
       "      <td>2010</td>\n",
       "      <td>-17.813884</td>\n",
       "      <td>31.049818</td>\n",
       "      <td>0.0</td>\n",
       "      <td>5.0</td>\n",
       "      <td>406</td>\n",
       "      <td>U</td>\n",
       "    </tr>\n",
       "    <tr>\n",
       "      <th>ZW-2015-7#-00000005</th>\n",
       "      <td>ZW</td>\n",
       "      <td>ZW-2015-7#</td>\n",
       "      <td>2015</td>\n",
       "      <td>-20.198491</td>\n",
       "      <td>28.610482</td>\n",
       "      <td>0.0</td>\n",
       "      <td>5.0</td>\n",
       "      <td>5</td>\n",
       "      <td>U</td>\n",
       "    </tr>\n",
       "    <tr>\n",
       "      <th>ZW-2015-7#-00000068</th>\n",
       "      <td>ZW</td>\n",
       "      <td>ZW-2015-7#</td>\n",
       "      <td>2015</td>\n",
       "      <td>-19.362430</td>\n",
       "      <td>32.553148</td>\n",
       "      <td>200.0</td>\n",
       "      <td>5.0</td>\n",
       "      <td>68</td>\n",
       "      <td>R</td>\n",
       "    </tr>\n",
       "    <tr>\n",
       "      <th>ZW-2015-7#-00000137</th>\n",
       "      <td>ZW</td>\n",
       "      <td>ZW-2015-7#</td>\n",
       "      <td>2015</td>\n",
       "      <td>-19.786552</td>\n",
       "      <td>31.009914</td>\n",
       "      <td>0.0</td>\n",
       "      <td>5.0</td>\n",
       "      <td>137</td>\n",
       "      <td>R</td>\n",
       "    </tr>\n",
       "    <tr>\n",
       "      <th>ZW-2015-7#-00000219</th>\n",
       "      <td>ZW</td>\n",
       "      <td>ZW-2015-7#</td>\n",
       "      <td>2015</td>\n",
       "      <td>-20.843967</td>\n",
       "      <td>28.122386</td>\n",
       "      <td>0.0</td>\n",
       "      <td>5.0</td>\n",
       "      <td>219</td>\n",
       "      <td>R</td>\n",
       "    </tr>\n",
       "  </tbody>\n",
       "</table>\n",
       "<p>4424 rows × 9 columns</p>\n",
       "</div>\n",
       "      <button class=\"colab-df-convert\" onclick=\"convertToInteractive('df-b61d805e-f17c-4f5d-88d9-2b4c98c70072')\"\n",
       "              title=\"Convert this dataframe to an interactive table.\"\n",
       "              style=\"display:none;\">\n",
       "        \n",
       "  <svg xmlns=\"http://www.w3.org/2000/svg\" height=\"24px\"viewBox=\"0 0 24 24\"\n",
       "       width=\"24px\">\n",
       "    <path d=\"M0 0h24v24H0V0z\" fill=\"none\"/>\n",
       "    <path d=\"M18.56 5.44l.94 2.06.94-2.06 2.06-.94-2.06-.94-.94-2.06-.94 2.06-2.06.94zm-11 1L8.5 8.5l.94-2.06 2.06-.94-2.06-.94L8.5 2.5l-.94 2.06-2.06.94zm10 10l.94 2.06.94-2.06 2.06-.94-2.06-.94-.94-2.06-.94 2.06-2.06.94z\"/><path d=\"M17.41 7.96l-1.37-1.37c-.4-.4-.92-.59-1.43-.59-.52 0-1.04.2-1.43.59L10.3 9.45l-7.72 7.72c-.78.78-.78 2.05 0 2.83L4 21.41c.39.39.9.59 1.41.59.51 0 1.02-.2 1.41-.59l7.78-7.78 2.81-2.81c.8-.78.8-2.07 0-2.86zM5.41 20L4 18.59l7.72-7.72 1.47 1.35L5.41 20z\"/>\n",
       "  </svg>\n",
       "      </button>\n",
       "      \n",
       "  <style>\n",
       "    .colab-df-container {\n",
       "      display:flex;\n",
       "      flex-wrap:wrap;\n",
       "      gap: 12px;\n",
       "    }\n",
       "\n",
       "    .colab-df-convert {\n",
       "      background-color: #E8F0FE;\n",
       "      border: none;\n",
       "      border-radius: 50%;\n",
       "      cursor: pointer;\n",
       "      display: none;\n",
       "      fill: #1967D2;\n",
       "      height: 32px;\n",
       "      padding: 0 0 0 0;\n",
       "      width: 32px;\n",
       "    }\n",
       "\n",
       "    .colab-df-convert:hover {\n",
       "      background-color: #E2EBFA;\n",
       "      box-shadow: 0px 1px 2px rgba(60, 64, 67, 0.3), 0px 1px 3px 1px rgba(60, 64, 67, 0.15);\n",
       "      fill: #174EA6;\n",
       "    }\n",
       "\n",
       "    [theme=dark] .colab-df-convert {\n",
       "      background-color: #3B4455;\n",
       "      fill: #D2E3FC;\n",
       "    }\n",
       "\n",
       "    [theme=dark] .colab-df-convert:hover {\n",
       "      background-color: #434B5C;\n",
       "      box-shadow: 0px 1px 3px 1px rgba(0, 0, 0, 0.15);\n",
       "      filter: drop-shadow(0px 1px 2px rgba(0, 0, 0, 0.3));\n",
       "      fill: #FFFFFF;\n",
       "    }\n",
       "  </style>\n",
       "\n",
       "      <script>\n",
       "        const buttonEl =\n",
       "          document.querySelector('#df-b61d805e-f17c-4f5d-88d9-2b4c98c70072 button.colab-df-convert');\n",
       "        buttonEl.style.display =\n",
       "          google.colab.kernel.accessAllowed ? 'block' : 'none';\n",
       "\n",
       "        async function convertToInteractive(key) {\n",
       "          const element = document.querySelector('#df-b61d805e-f17c-4f5d-88d9-2b4c98c70072');\n",
       "          const dataTable =\n",
       "            await google.colab.kernel.invokeFunction('convertToInteractive',\n",
       "                                                     [key], {});\n",
       "          if (!dataTable) return;\n",
       "\n",
       "          const docLinkHtml = 'Like what you see? Visit the ' +\n",
       "            '<a target=\"_blank\" href=https://colab.research.google.com/notebooks/data_table.ipynb>data table notebook</a>'\n",
       "            + ' to learn more about interactive tables.';\n",
       "          element.innerHTML = '';\n",
       "          dataTable['output_type'] = 'display_data';\n",
       "          await google.colab.output.renderOutput(dataTable, element);\n",
       "          const docLink = document.createElement('div');\n",
       "          docLink.innerHTML = docLinkHtml;\n",
       "          element.appendChild(docLink);\n",
       "        }\n",
       "      </script>\n",
       "    </div>\n",
       "  </div>\n",
       "  "
      ],
      "text/plain": [
       "                     cc      survey  year        lat        lon  under5_mort  \\\n",
       "DHSID_EA                                                                       \n",
       "AL-2008-5#-00000031  AL  AL-2008-5#  2008  41.487536  20.198375          0.0   \n",
       "AL-2008-5#-00000038  AL  AL-2008-5#  2008  41.765525  20.381548          0.0   \n",
       "AL-2008-5#-00000045  AL  AL-2008-5#  2008  41.591402  20.545436          0.0   \n",
       "AL-2008-5#-00000057  AL  AL-2008-5#  2008  41.696015  20.436156          0.0   \n",
       "AL-2008-5#-00000061  AL  AL-2008-5#  2008  41.672881  20.420241          0.0   \n",
       "...                  ..         ...   ...        ...        ...          ...   \n",
       "ZW-2010-6#-00000406  ZW  ZW-2010-6#  2010 -17.813884  31.049818          0.0   \n",
       "ZW-2015-7#-00000005  ZW  ZW-2015-7#  2015 -20.198491  28.610482          0.0   \n",
       "ZW-2015-7#-00000068  ZW  ZW-2015-7#  2015 -19.362430  32.553148        200.0   \n",
       "ZW-2015-7#-00000137  ZW  ZW-2015-7#  2015 -19.786552  31.009914          0.0   \n",
       "ZW-2015-7#-00000219  ZW  ZW-2015-7#  2015 -20.843967  28.122386          0.0   \n",
       "\n",
       "                     n_under5_mort  cluster_id urban  \n",
       "DHSID_EA                                              \n",
       "AL-2008-5#-00000031            5.0          31     U  \n",
       "AL-2008-5#-00000038            5.0          38     R  \n",
       "AL-2008-5#-00000045            5.0          45     R  \n",
       "AL-2008-5#-00000057            5.0          57     U  \n",
       "AL-2008-5#-00000061            5.0          61     U  \n",
       "...                            ...         ...   ...  \n",
       "ZW-2010-6#-00000406            5.0         406     U  \n",
       "ZW-2015-7#-00000005            5.0           5     U  \n",
       "ZW-2015-7#-00000068            5.0          68     R  \n",
       "ZW-2015-7#-00000137            5.0         137     R  \n",
       "ZW-2015-7#-00000219            5.0         219     R  \n",
       "\n",
       "[4424 rows x 9 columns]"
      ]
     },
     "execution_count": 17,
     "metadata": {},
     "output_type": "execute_result"
    }
   ],
   "source": [
    "df_with_morts[df_with_morts['n_under5_mort'] == df_with_morts['n_under5_mort'].min()]"
   ]
  },
  {
   "cell_type": "markdown",
   "metadata": {
    "id": "LdONLujuURrm"
   },
   "source": [
    "Many different countries had the minimum child mortality rate of 5.0."
   ]
  },
  {
   "cell_type": "code",
   "execution_count": 18,
   "metadata": {
    "colab": {
     "base_uri": "https://localhost:8080/"
    },
    "executionInfo": {
     "elapsed": 253,
     "status": "ok",
     "timestamp": 1651962872539,
     "user": {
      "displayName": "Timothy Leo Wu",
      "userId": "07512138671885178261"
     },
     "user_tz": 420
    },
    "id": "PfIMYm-GUYC9",
    "outputId": "22cf6f0e-1ef8-4b75-bdd6-f35bb26e44c6"
   },
   "outputs": [
    {
     "data": {
      "text/plain": [
       "True"
      ]
     },
     "execution_count": 18,
     "metadata": {},
     "output_type": "execute_result"
    }
   ],
   "source": [
    "df_with_morts['n_under5_mort'].apply(float.is_integer).all()"
   ]
  },
  {
   "cell_type": "code",
   "execution_count": 19,
   "metadata": {
    "colab": {
     "base_uri": "https://localhost:8080/"
    },
    "executionInfo": {
     "elapsed": 261,
     "status": "ok",
     "timestamp": 1651962886821,
     "user": {
      "displayName": "Timothy Leo Wu",
      "userId": "07512138671885178261"
     },
     "user_tz": 420
    },
    "id": "e9kVSrSEqTFG",
    "outputId": "2a09f7c4-b0a9-4b40-fe5b-1037318003a4"
   },
   "outputs": [
    {
     "name": "stdout",
     "output_type": "stream",
     "text": [
      "<class 'pandas.core.frame.DataFrame'>\n",
      "Index: 105582 entries, AL-2008-5#-00000001 to ZW-2015-7#-00000400\n",
      "Data columns (total 9 columns):\n",
      " #   Column         Non-Null Count   Dtype  \n",
      "---  ------         --------------   -----  \n",
      " 0   cc             105582 non-null  object \n",
      " 1   survey         105582 non-null  object \n",
      " 2   year           105582 non-null  int64  \n",
      " 3   lat            105582 non-null  float64\n",
      " 4   lon            105582 non-null  float64\n",
      " 5   under5_mort    105582 non-null  float64\n",
      " 6   n_under5_mort  105582 non-null  float64\n",
      " 7   cluster_id     105582 non-null  int64  \n",
      " 8   urban          105582 non-null  object \n",
      "dtypes: float64(4), int64(2), object(3)\n",
      "memory usage: 12.1+ MB\n"
     ]
    }
   ],
   "source": [
    "df_with_morts.info()"
   ]
  },
  {
   "cell_type": "markdown",
   "metadata": {
    "id": "WZonI43mUsQ4"
   },
   "source": [
    "We see here that **NO reported child mortality rate contained a decimal**. All child mortality rates in this data are whole numbers.\n",
    "\n",
    "This means that if our model predicts a decimal, it is going to be off from the true label no matter what."
   ]
  },
  {
   "cell_type": "code",
   "execution_count": null,
   "metadata": {
    "id": "L_WUjYo3JP7B"
   },
   "outputs": [],
   "source": [
    "# reset to allow hiding columns\n",
    "pd.reset_option(\"max_columns\")"
   ]
  }
 ],
 "metadata": {
  "colab": {
   "collapsed_sections": [
    "Ne3tF_xMJ-2m"
   ],
   "name": "data_preprocessing.ipynb",
   "provenance": []
  },
  "kernelspec": {
   "display_name": "Python 3",
   "language": "python",
   "name": "python3"
  },
  "language_info": {
   "codemirror_mode": {
    "name": "ipython",
    "version": 3
   },
   "file_extension": ".py",
   "mimetype": "text/x-python",
   "name": "python",
   "nbconvert_exporter": "python",
   "pygments_lexer": "ipython3",
   "version": "3.7.10"
  }
 },
 "nbformat": 4,
 "nbformat_minor": 1
}
